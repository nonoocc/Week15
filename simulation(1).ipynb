{
  "nbformat": 4,
  "nbformat_minor": 0,
  "metadata": {
    "colab": {
      "name": "simulation(1).ipynb",
      "provenance": [],
      "collapsed_sections": [],
      "toc_visible": true,
      "include_colab_link": true
    },
    "kernelspec": {
      "name": "python3",
      "display_name": "Python 3"
    },
    "language_info": {
      "name": "python"
    }
  },
  "cells": [
    {
      "cell_type": "markdown",
      "metadata": {
        "id": "view-in-github",
        "colab_type": "text"
      },
      "source": [
        "<a href=\"https://colab.research.google.com/github/nonoocc/Week15/blob/master/simulation(1).ipynb\" target=\"_parent\"><img src=\"https://colab.research.google.com/assets/colab-badge.svg\" alt=\"Open In Colab\"/></a>"
      ]
    },
    {
      "cell_type": "code",
      "source": [
        "#Explaining simulation.py\n",
        "#This file combines the SEIR model with the data of real word, then simulates it, and presents it in the form of dynamic graph\n",
        "import numpy as np\n",
        "import csv\n",
        "import matplotlib.pyplot as plt,time\n",
        "from matplotlib.animation import FuncAnimation\n",
        "from matplotlib import rc\n",
        "rc('animation', html='jshtml')"
      ],
      "metadata": {
        "id": "sw3DgPxkwcvy"
      },
      "execution_count": null,
      "outputs": []
    },
    {
      "cell_type": "code",
      "source": [
        "#Calculation method of SEIR model\n",
        "def SEIR(seir, para, steps):\n",
        "    S,E,I,R = seir\n",
        "    r,beta,a,gamma,N = para #app_parameters\n",
        "    dS = -(r*beta*I*S)/N\n",
        "    dE =  (r*beta*I*S)/N - a*E\n",
        "    dI = a*E - gamma*I\n",
        "    dR = gamma*I\n",
        "    return [S+dS*steps, E+dE*steps, I+dI*steps, R+dR*steps]\n",
        "#SEIR model is to divide the population in the closed area into four categories: s is the susceptible, e is the latent, I is the infected and R is the rehabilitated.\n",
        "\n",
        "def calculate(func,seir,para,intervene_N,duration):\n",
        "    steps = 1\n",
        "    t = np.arange(0,duration,steps)\n",
        "    res=[]\n",
        "    pre0 = para[0]\n",
        "    for itm in t:\n",
        "        if intervene_N!=0:\n",
        "            if itm>intervene_N:\n",
        "                para[0]=int(pre0*0.5)\n",
        "                para[1]=4\n",
        "        seir=func(seir,para,steps)\n",
        "        res.append(seir)\n",
        "    return np.array(res)\n",
        "#Calculate the SEIR value in the time period of duration\n",
        "\n",
        "#Integrate real world data\n",
        "def getReal(fname,st,end):\n",
        "    #fname=\"real_world/UK_covid.csv\"\n",
        "    total_cases=[]\n",
        "    with open(fname,\"r\")as f:\n",
        "        temp=csv.reader(f)\n",
        "        for i in temp:\n",
        "            try:\n",
        "                total_cases.append(int(i[4]))\n",
        "            except:\n",
        "                total_cases.append(0)\n",
        "        del total_cases[0]\n",
        "    real_cases = total_cases[st:end]\n",
        "    return(real_cases)\n",
        "\n",
        "#Classify and store the values of SEIR\n",
        "def do_simulation(SEIR,seir,para,intervene_N,STATUSES,duration):\n",
        "\n",
        "    raw_data = calculate(SEIR,seir,para,intervene_N,duration)\n",
        "    simulation_result={}\n",
        "\n",
        "    for idx in range(4):\n",
        "       simulation_result[STATUSES[idx]] = []\n",
        "    for i in range(len(raw_data)):\n",
        "      for idx in range(4):\n",
        "        simulation_result[STATUSES[idx]].append(raw_data[i,idx])\n",
        "    return simulation_result\n",
        "#Status corresponds to the four names, and the fifth is the value of real world\n",
        "\n"
      ],
      "metadata": {
        "id": "T93SoRPcwc-B"
      },
      "execution_count": null,
      "outputs": []
    },
    {
      "cell_type": "code",
      "source": [
        "def animation_line(result_data,STATUSES,COLOURMAP,duration):\n",
        "\n",
        "    fig, axes = plt.subplots() #Get image\n",
        "\n",
        "    # Construct line data structure\n",
        "    ydata = {status: [] for status in STATUSES}\n",
        "    xdata = []\n",
        "    line_mpl = {}\n",
        "    for status, colour in COLOURMAP.items():\n",
        "        [line] = axes.plot([], [], color=colour, label=status, linewidth=2)\n",
        "        line_mpl[status] = line\n",
        "    axes.legend(prop={'size':'x-small'}, loc='center right')\n",
        "    axes.set_xlabel('days')\n",
        "    axes.set_ylabel('person', rotation=0)\n",
        "\n",
        "\n",
        "    def init():\n",
        "        axes.set_xlim([0,duration])\n",
        "        axes.set_ylim([0,6000000])\n",
        "        return []\n",
        "\n",
        "    def update(framenum):\n",
        "\n",
        "        xdata.append(len(xdata))\n",
        "        for status in STATUSES:\n",
        "            ydata[status].append(result_data[status][framenum])\n",
        "            line_mpl[status].set_data(xdata, ydata[status])\n",
        "        return list(line_mpl.values())\n",
        "\n",
        "\n",
        "    ani = FuncAnimation(fig, update, frames=range(duration),\n",
        "                    init_func = init, blit=True, interval=10)\n",
        "    plt.show()\n",
        "    return ani"
      ],
      "metadata": {
        "id": "KKwXbzU-wdBe"
      },
      "execution_count": null,
      "outputs": []
    },
    {
      "cell_type": "code",
      "source": [
        "COLOURMAP = {\n",
        "    'Susceptible': 'green',\n",
        "    'Exposed': 'black',\n",
        "    'infected': 'yellow',\n",
        "    'Removed': 'blue',\n",
        "    'real case': 'red'\n",
        "}\n",
        "STATUSES=['Susceptible','Exposed','infected','Removed','real case']\n",
        "\n",
        "intervene_N = 3\n",
        "#Here, you can change the data range of the original real world value to realize the original real value\n",
        "st = 100\n",
        "end = 400\n",
        "real_data = getReal(\"UK_covid.csv\",st,end)\n",
        "\n",
        "duration = end-st\n",
        "## The parameters\n",
        "steps = 1\n",
        "seir= [2820771,0,1,0] #S  E  I  R\n",
        "para = [30,0.1,0.2,0.2, 6820711] #The data in para set are R, beta, a, gamma and the total number of people.\n",
        "seir[0] = real_data[0]\n",
        "\n",
        "\n",
        "simulation_data = do_simulation(SEIR,seir,para,intervene_N,STATUSES,duration)\n",
        "simulation_data['real case']=real_data\n",
        "\n",
        "anim = animation_line(simulation_data,STATUSES,COLOURMAP,duration)\n",
        "#This is the result of the final program. The new crown is simulated and predicted"
      ],
      "metadata": {
        "colab": {
          "base_uri": "https://localhost:8080/",
          "height": 290
        },
        "id": "_SfheMtqwdEb",
        "outputId": "88b545f9-2930-45c2-ddea-50e89bd9e6f3"
      },
      "execution_count": null,
      "outputs": [
        {
          "output_type": "display_data",
          "data": {
            "text/plain": [
              "<Figure size 432x288 with 1 Axes>"
            ],
            "image/png": "[encoded data removed]"
          },
          "metadata": {
            "needs_background": "light"
          }
        }
      ]
    },
    {
      "cell_type": "code",
      "source": [
        "anim"
      ],
      "metadata": {
        "id": "oCKusUz8wdJv"
      },
      "execution_count": null,
      "outputs": []
    }
  ]
}